{
 "cells": [
  {
   "cell_type": "markdown",
   "id": "d5578086-ba80-4447-87a9-40eb3bb2f656",
   "metadata": {},
   "source": [
    "# Distribución gamma"
   ]
  },
  {
   "cell_type": "code",
   "execution_count": 123,
   "id": "2e534b04-13df-4a6f-960b-b39bf30643c2",
   "metadata": {},
   "outputs": [],
   "source": [
    "import numpy as np\n",
    "import matplotlib.pyplot as plt"
   ]
  },
  {
   "cell_type": "code",
   "execution_count": 124,
   "id": "31632cdd-d32d-4eaa-aba5-366536fbb9d0",
   "metadata": {},
   "outputs": [
    {
     "data": {
      "text/plain": [
       "[]"
      ]
     },
     "execution_count": 124,
     "metadata": {},
     "output_type": "execute_result"
    },
    {
     "data": {
      "image/png": "[encoded data removed]",
      "text/plain": [
       "<Figure size 640x480 with 1 Axes>"
      ]
     },
     "metadata": {},
     "output_type": "display_data"
    }
   ],
   "source": [
    "class MersenneTwister:\n",
    "    def __init__(self, seed=5489):\n",
    "        self.n = 624  # Tamaño del estado\n",
    "        self.state = [0] * self.n\n",
    "        self.index = self.n  # Índice inicial\n",
    "        self.seed(seed)\n",
    "\n",
    "    def seed(self, seed):\n",
    "        \"\"\"Inicializa la matriz de estado\"\"\"\n",
    "        self.state[0] = seed\n",
    "        for i in range(1, self.n):\n",
    "            self.state[i] = (1812433253 * (self.state[i-1] ^ (self.state[i-1] >> 30)) + i) & 0xFFFFFFFF\n",
    "\n",
    "    def twist(self):\n",
    "        \"\"\"Realiza la transformación de mezcla\"\"\"\n",
    "        for i in range(self.n):\n",
    "            y = (self.state[i] & 0x80000000) + (self.state[(i+1) % self.n] & 0x7FFFFFFF)\n",
    "            self.state[i] = self.state[(i + 397) % self.n] ^ (y >> 1)\n",
    "            if y % 2 != 0:  # Aplicar la máscara si el bit menos significativo es 1\n",
    "                self.state[i] ^= 0x9908B0DF\n",
    "        self.index = 0\n",
    "\n",
    "    def extract_number(self):\n",
    "        \"\"\"Extrae un número aleatorio\"\"\"\n",
    "        if self.index >= self.n:\n",
    "            self.twist()\n",
    "\n",
    "        y = self.state[self.index]\n",
    "        self.index += 1\n",
    "\n",
    "        # Aplicar las transformaciones no lineales\n",
    "        y ^= (y >> 11)\n",
    "        y ^= (y << 7) & 0x9D2C5680\n",
    "        y ^= (y << 15) & 0xEFC60000\n",
    "        y ^= (y >> 18)\n",
    "\n",
    "        return y & 0xFFFFFFFF  # Retornar solo 32 bits\n",
    "\n",
    "# Uso del generador\n",
    "mt = MersenneTwister(seed=30)\n",
    "\n",
    "nums = []\n",
    "k = 0.98 #k<1 (forma)\n",
    "theta = 69 #(escala)\n",
    "# Generar n números aleatorios\n",
    "for _ in range(100000):\n",
    "    U_1 = mt.extract_number() / 0xFFFFFFFF  # Normalizar entre 0 y 1\n",
    "    z_0 = theta * (- np.log(U_1))**(1/k) #método de la trasformada inversa\n",
    "    #print(z_0)\n",
    "    nums.append(int(z_0))\n",
    "\n",
    "textfile = open('Gamma_distribution.txt','w')\n",
    "for x_i in nums: \n",
    "    textfile.write(\"%s\\n\" % x_i)\n",
    "\n",
    "nums.sort()\n",
    "nums = np.array(nums)\n",
    "\n",
    "plt.hist(nums)\n",
    "plt.plot()"
   ]
  },
  {
   "cell_type": "code",
   "execution_count": 125,
   "id": "3bb1df1b-3f8a-45f1-8ddd-91a7d4d8774e",
   "metadata": {},
   "outputs": [
    {
     "name": "stdout",
     "output_type": "stream",
     "text": [
      "990\n"
     ]
    }
   ],
   "source": [
    "print(nums[-1])"
   ]
  },
  {
   "cell_type": "markdown",
   "id": "85695f82-e1f8-42a0-9aba-df8ae0dd6fb4",
   "metadata": {},
   "source": [
    "### Media"
   ]
  },
  {
   "cell_type": "markdown",
   "id": "6832487f-f5ae-414e-bee0-70dd9aa77d7b",
   "metadata": {},
   "source": [
    "$$\\mu = k \\theta$$"
   ]
  },
  {
   "cell_type": "code",
   "execution_count": 126,
   "id": "6f9de874-063d-4d4d-a003-82640bf39344",
   "metadata": {},
   "outputs": [],
   "source": [
    "def mean(list_nums):\n",
    "    n = len(list_nums)\n",
    "    return round(sum(list_nums) / n, 3)"
   ]
  },
  {
   "cell_type": "code",
   "execution_count": 127,
   "id": "5c1a48df-08e6-4bdd-8bd4-2bd4794497ee",
   "metadata": {},
   "outputs": [
    {
     "name": "stdout",
     "output_type": "stream",
     "text": [
      "Media: 68.626\n"
     ]
    }
   ],
   "source": [
    "print(f'Media: {mean(nums)}')"
   ]
  },
  {
   "cell_type": "code",
   "execution_count": 128,
   "id": "059e4436-0a81-4595-8f1f-c11418e12b7f",
   "metadata": {},
   "outputs": [
    {
     "name": "stdout",
     "output_type": "stream",
     "text": [
      "Media: 67.62\n"
     ]
    }
   ],
   "source": [
    "print(f'Media: {theta * k}')"
   ]
  },
  {
   "cell_type": "markdown",
   "id": "4471fd1b-0c28-4983-9d9d-32136c93e1f5",
   "metadata": {},
   "source": [
    "### Varianza"
   ]
  },
  {
   "cell_type": "markdown",
   "id": "9cf8845d-ee19-425f-bfd7-88fb750b0c28",
   "metadata": {},
   "source": [
    "$$\\sigma ^2 = k \\theta ^ 2 $$"
   ]
  },
  {
   "cell_type": "code",
   "execution_count": 129,
   "id": "339195f7-3429-4d50-a26f-b1a187115420",
   "metadata": {},
   "outputs": [],
   "source": [
    "def k_central_moment(list_nums, k):\n",
    "    n = len(list_nums)\n",
    "    mean_ = mean(list_nums)\n",
    "    return round(sum((list_nums - mean_) ** k) / n, 3)"
   ]
  },
  {
   "cell_type": "code",
   "execution_count": 130,
   "id": "16085fb5-5149-411b-89b2-7d6e87fd4931",
   "metadata": {},
   "outputs": [
    {
     "name": "stdout",
     "output_type": "stream",
     "text": [
      "Varianza: 4990.997\n"
     ]
    }
   ],
   "source": [
    "print(f'Varianza: {k_central_moment(nums, 2)}')"
   ]
  },
  {
   "cell_type": "code",
   "execution_count": 131,
   "id": "855b735d-fb19-4d7e-955b-861d4d0df2b7",
   "metadata": {},
   "outputs": [
    {
     "name": "stdout",
     "output_type": "stream",
     "text": [
      "Varianza: 4665.78\n"
     ]
    }
   ],
   "source": [
    "print(f'Varianza: {k * theta ** 2}')"
   ]
  },
  {
   "cell_type": "markdown",
   "id": "06442e16-9d7b-4ffd-b003-4ba9c6733126",
   "metadata": {},
   "source": [
    "### Curtosis"
   ]
  },
  {
   "cell_type": "markdown",
   "id": "87b29e05-700e-47d1-8a51-c0bd5d044c8e",
   "metadata": {},
   "source": [
    "$$\\beta _{2} = EDC + 3 = 6 / k + 3$$\n",
    "\n",
    "*  leptocúrtica: $\\beta _{2} > 3$; distribución con cola más largas que la normal.\n",
    "*  platicúrtica: $\\beta _{2} < 3$; distribución con colas menos largas que la normal.\n",
    "*  mesocúrtica: $\\beta _{2} = 3$; cuando tiene una distribución normal (o su misma curtosis)."
   ]
  },
  {
   "cell_type": "code",
   "execution_count": 132,
   "id": "598d131b-08c3-403e-995d-e895c9b1fcea",
   "metadata": {},
   "outputs": [],
   "source": [
    "def curtosis(list_nums):\n",
    "    return k_central_moment(list_nums, 4) / (k_central_moment(list_nums, 2) ** 2)"
   ]
  },
  {
   "cell_type": "code",
   "execution_count": 133,
   "id": "b3997543-03df-4bdc-bbd9-96467d7668b0",
   "metadata": {},
   "outputs": [
    {
     "name": "stdout",
     "output_type": "stream",
     "text": [
      "Curtosis: 9.484666246919472\n"
     ]
    }
   ],
   "source": [
    "print(f'Curtosis: {curtosis(nums)}')"
   ]
  },
  {
   "cell_type": "code",
   "execution_count": 134,
   "id": "570db9ca-609c-4829-a148-88462dbd126d",
   "metadata": {},
   "outputs": [
    {
     "name": "stdout",
     "output_type": "stream",
     "text": [
      "Curtosis: 9.122448979591837\n"
     ]
    }
   ],
   "source": [
    "print(f'Curtosis: {6 / k + 3}')"
   ]
  },
  {
   "cell_type": "markdown",
   "id": "679115b6-af4c-4d04-9a57-65866cfc1dde",
   "metadata": {},
   "source": [
    "### Sesgo (skewness)"
   ]
  },
  {
   "cell_type": "markdown",
   "id": "a5a0614d-feb6-49db-807c-32ce54fff6ce",
   "metadata": {},
   "source": [
    "$$S = \\frac{2}{\\sqrt{k}}$$\n",
    "* $S<0$; la masa de la distribución está concentrada del lado derecho.\n",
    "* $S>0$; la masa de la distribución está concentrada del lado izquierdo."
   ]
  },
  {
   "cell_type": "code",
   "execution_count": 135,
   "id": "d1f43116-112c-4a52-a9f2-2ed09cdb5a99",
   "metadata": {},
   "outputs": [
    {
     "name": "stdout",
     "output_type": "stream",
     "text": [
      "sesgo: 2.020305089104421\n"
     ]
    }
   ],
   "source": [
    "print(f'sesgo: {2 / np.sqrt(k)}')"
   ]
  }
 ],
 "metadata": {
  "kernelspec": {
   "display_name": "Python 3 (ipykernel)",
   "language": "python",
   "name": "python3"
  },
  "language_info": {
   "codemirror_mode": {
    "name": "ipython",
    "version": 3
   },
   "file_extension": ".py",
   "mimetype": "text/x-python",
   "name": "python",
   "nbconvert_exporter": "python",
   "pygments_lexer": "ipython3",
   "version": "3.10.12"
  }
 },
 "nbformat": 4,
 "nbformat_minor": 5
}
