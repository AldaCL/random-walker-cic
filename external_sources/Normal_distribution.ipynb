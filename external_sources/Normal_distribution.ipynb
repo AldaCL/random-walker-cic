{
 "cells": [
  {
   "cell_type": "code",
   "execution_count": 3,
   "id": "2e534b04-13df-4a6f-960b-b39bf30643c2",
   "metadata": {},
   "outputs": [],
   "source": [
    "import numpy as np\n",
    "import matplotlib.pyplot as plt"
   ]
  },
  {
   "cell_type": "code",
   "execution_count": 4,
   "id": "5e965646-e097-4380-bcae-adc00db28915",
   "metadata": {},
   "outputs": [
    {
     "data": {
      "image/png": "[encoded data removed]",
      "text/plain": [
       "<Figure size 640x480 with 1 Axes>"
      ]
     },
     "metadata": {},
     "output_type": "display_data"
    }
   ],
   "source": [
    "class MersenneTwister:\n",
    "    def __init__(self, seed=5489):\n",
    "        self.n = 624  # Tamaño del estado\n",
    "        self.state = [0] * self.n\n",
    "        self.index = self.n  # Índice inicial\n",
    "        self.seed(seed)\n",
    "\n",
    "    def seed(self, seed):\n",
    "        \"\"\"Inicializa la matriz de estado\"\"\"\n",
    "        self.state[0] = seed\n",
    "        for i in range(1, self.n):\n",
    "            self.state[i] = (1812433253 * (self.state[i-1] ^ (self.state[i-1] >> 30)) + i) & 0xFFFFFFFF\n",
    "\n",
    "    def twist(self):\n",
    "        \"\"\"Realiza la transformación de mezcla\"\"\"\n",
    "        for i in range(self.n):\n",
    "            y = (self.state[i] & 0x80000000) + (self.state[(i+1) % self.n] & 0x7FFFFFFF)\n",
    "            self.state[i] = self.state[(i + 397) % self.n] ^ (y >> 1)\n",
    "            if y % 2 != 0:  # Aplicar la máscara si el bit menos significativo es 1\n",
    "                self.state[i] ^= 0x9908B0DF\n",
    "        self.index = 0\n",
    "\n",
    "    def extract_number(self):\n",
    "        \"\"\"Extrae un número aleatorio\"\"\"\n",
    "        if self.index >= self.n:\n",
    "            self.twist()\n",
    "\n",
    "        y = self.state[self.index]\n",
    "        self.index += 1\n",
    "\n",
    "        # Aplicar las transformaciones no lineales\n",
    "        y ^= (y >> 11)\n",
    "        y ^= (y << 7) & 0x9D2C5680\n",
    "        y ^= (y << 15) & 0xEFC60000\n",
    "        y ^= (y >> 18)\n",
    "\n",
    "        return y & 0xFFFFFFFF  # Retornar solo 32 bits\n",
    "\n",
    "# Uso del generador\n",
    "mt = MersenneTwister(seed=50)\n",
    "\n",
    "# Generar n números aleatorios\n",
    "n = 100000\n",
    "nums = []\n",
    "for _ in range(n):\n",
    "    U_1 = mt.extract_number() / 0xFFFFFFFF  # Normalizar entre 0 y 1\n",
    "    U_2 = mt.extract_number() / 0xFFFFFFFF  # Normalizar entre 0 y 1\n",
    "    z_0 = np.sqrt(-2 * np.log(U_1)) * np.sin(2 * np.pi * U_2)\n",
    "    nums.append(z_0)\n",
    "\n",
    "nums = (np.array(nums) / (2 * max([abs(max(nums)), abs(min(nums))]))) + 0.5\n",
    "nums = np.array([int(x_i * 1000) if (x_i * 1000) < 1000 else 999 for x_i in nums])\n",
    "\n",
    "textfile = open('Normal_distribution_1.txt','w')\n",
    "for x_i in nums: \n",
    "    textfile.write(\"%s\\n\" % x_i)\n",
    "\n",
    "nums.sort()\n",
    "\n",
    "plt.hist(nums)\n",
    "plt.show()"
   ]
  },
  {
   "cell_type": "markdown",
   "id": "dda3c3f3-5882-4f13-9fc5-2f62c58ae8fe",
   "metadata": {},
   "source": [
    "### Media"
   ]
  },
  {
   "cell_type": "markdown",
   "id": "74f7ceae-3c90-4570-9448-025d71550008",
   "metadata": {},
   "source": [
    "$$\\mu = \\frac{1}{N} \\sum _{i=1} ^{N} x_i$$"
   ]
  },
  {
   "cell_type": "code",
   "execution_count": 5,
   "id": "7786c855-ae89-4f56-988c-9ef0fea6701e",
   "metadata": {},
   "outputs": [],
   "source": [
    "def mean(list_nums):\n",
    "    n = len(list_nums)\n",
    "    return round(sum(list_nums) / n, 3)"
   ]
  },
  {
   "cell_type": "code",
   "execution_count": 6,
   "id": "eb3f6fea-0204-4a10-ac32-91783408b30e",
   "metadata": {},
   "outputs": [
    {
     "name": "stdout",
     "output_type": "stream",
     "text": [
      "Media: 499.585\n"
     ]
    }
   ],
   "source": [
    "print(f'Media: {mean(nums)}')"
   ]
  },
  {
   "cell_type": "markdown",
   "id": "530719b1-717b-4596-a74c-7cd02febbfc1",
   "metadata": {},
   "source": [
    "### Varianza"
   ]
  },
  {
   "cell_type": "markdown",
   "id": "20d46be1-513d-4391-80c5-bd73bbee42d6",
   "metadata": {},
   "source": [
    "$$\\sigma ^2 = \\frac{1}{N} \\sum _{i=1} ^{N} (x_i - \\mu) ^2$$"
   ]
  },
  {
   "cell_type": "code",
   "execution_count": 7,
   "id": "d8abedb3-413d-496d-b54f-282ea1d484f1",
   "metadata": {},
   "outputs": [],
   "source": [
    "def k_central_moment(list_nums, k):\n",
    "    n = len(list_nums)\n",
    "    mean_ = mean(list_nums)\n",
    "    return round(sum((list_nums - mean_) ** k) / n, 3)"
   ]
  },
  {
   "cell_type": "code",
   "execution_count": 8,
   "id": "0f76ac58-c787-472c-962d-1b64bcda8503",
   "metadata": {},
   "outputs": [
    {
     "name": "stdout",
     "output_type": "stream",
     "text": [
      "Varianza: 13708.5\n"
     ]
    }
   ],
   "source": [
    "print(f'Varianza: {k_central_moment(nums, 2)}')"
   ]
  },
  {
   "cell_type": "markdown",
   "id": "a5700756-dbb1-45c9-adcd-887fc2976ee3",
   "metadata": {},
   "source": [
    "### Media geométrica"
   ]
  },
  {
   "cell_type": "markdown",
   "id": "dc34e820-f5d4-4f78-9910-2998aa7a33ce",
   "metadata": {},
   "source": [
    "$$MG = \\left(\\prod _{i=1} ^{N} x_i \\right) ^{1/N} =  \\exp{\\left( \\frac{1}{N} \\sum _{i=1} ^{N} \\ln{x_i} \\right)}$$ "
   ]
  },
  {
   "cell_type": "code",
   "execution_count": 9,
   "id": "7c3a3de3-e9a2-46d6-9706-660adf490e29",
   "metadata": {},
   "outputs": [],
   "source": [
    "def geo_mean(list_nums):\n",
    "    n = len(list_nums)\n",
    "    return round(np.exp(sum([np.log(x_i) for x_i in list_nums]) / n), 3)"
   ]
  },
  {
   "cell_type": "code",
   "execution_count": 10,
   "id": "dbb79693-4ef2-4229-944c-f99c85c65014",
   "metadata": {},
   "outputs": [
    {
     "name": "stdout",
     "output_type": "stream",
     "text": [
      "Media geométrica: 484.692\n"
     ]
    }
   ],
   "source": [
    "print(f'Media geométrica: {geo_mean(nums)}')"
   ]
  },
  {
   "cell_type": "markdown",
   "id": "d5355fa1-05cb-4d13-9f87-954c5b1581df",
   "metadata": {},
   "source": [
    "### Mediana"
   ]
  },
  {
   "cell_type": "code",
   "execution_count": 11,
   "id": "829c6a1e-9001-4a61-bda4-433d08c13520",
   "metadata": {},
   "outputs": [],
   "source": [
    "def median(list_nums):\n",
    "    n = len(list_nums)\n",
    "    median = 0\n",
    "    if n % 2 == 0:\n",
    "        median = round(mean([list_nums[int(n / 2) - 1], list_nums[int(n / 2)]]), 3)\n",
    "    else:\n",
    "        median = list_nums[n//2]\n",
    "    return median"
   ]
  },
  {
   "cell_type": "code",
   "execution_count": 12,
   "id": "8447f611-a20f-4cb9-90d7-b9288c98ba64",
   "metadata": {},
   "outputs": [
    {
     "name": "stdout",
     "output_type": "stream",
     "text": [
      "Moda: 499.0\n"
     ]
    }
   ],
   "source": [
    "print(f'Mediana: {median(nums)}')"
   ]
  },
  {
   "cell_type": "markdown",
   "id": "f4f51eef-c738-4903-8ca6-6b826d320dc1",
   "metadata": {},
   "source": [
    "### Moda"
   ]
  },
  {
   "cell_type": "code",
   "execution_count": 13,
   "id": "94a9a599-15e9-4ccd-ba24-2cb11e1f0052",
   "metadata": {},
   "outputs": [],
   "source": [
    "def mode(list_nums):\n",
    "    list_nums = list(np.array(list_nums))\n",
    "    return max(set(list_nums), key=list_nums.count)"
   ]
  },
  {
   "cell_type": "code",
   "execution_count": 14,
   "id": "ee377f97-073a-4818-911d-f82bf0bbdcd9",
   "metadata": {},
   "outputs": [
    {
     "name": "stdout",
     "output_type": "stream",
     "text": [
      "Moda: 478\n"
     ]
    }
   ],
   "source": [
    "print(f'Moda: {mode(nums)}')"
   ]
  },
  {
   "cell_type": "markdown",
   "id": "d9a95fed-9fd4-4363-9c96-8d845e5b9da5",
   "metadata": {},
   "source": [
    "### Curtosis"
   ]
  },
  {
   "cell_type": "markdown",
   "id": "ef4bfc09-c4fe-436f-a24d-057e03a3f6bd",
   "metadata": {},
   "source": [
    "$$ \\beta _{2} = \\frac{\\mu _{4}}{\\sigma ^4} $$\n",
    "\n",
    "*  leptocúrtica: $\\beta _{2} > 3$; distribución con colar más largas que la normal.\n",
    "*  platicúrtica: $\\beta _{2} < 3$; distribución con colas menos largas que la normal.\n",
    "*  mesocúrtica: $\\beta _{2} = 3$; cuando tiene una distribución normal (o su misma curtosis)."
   ]
  },
  {
   "cell_type": "code",
   "execution_count": 15,
   "id": "afaed498-0c97-4223-8b2f-a9f9f30485a0",
   "metadata": {},
   "outputs": [],
   "source": [
    "def curtosis(list_nums):\n",
    "    return k_central_moment(list_nums, 4) / (k_central_moment(list_nums, 2) ** 2)"
   ]
  },
  {
   "cell_type": "code",
   "execution_count": 16,
   "id": "28e85bdd-abe2-418d-80b3-70c01b117243",
   "metadata": {},
   "outputs": [
    {
     "name": "stdout",
     "output_type": "stream",
     "text": [
      "Curtosis: 2.9887643294871307\n"
     ]
    }
   ],
   "source": [
    "print(f'Curtosis: {curtosis(nums)}')"
   ]
  }
 ],
 "metadata": {
  "kernelspec": {
   "display_name": "Python 3 (ipykernel)",
   "language": "python",
   "name": "python3"
  },
  "language_info": {
   "codemirror_mode": {
    "name": "ipython",
    "version": 3
   },
   "file_extension": ".py",
   "mimetype": "text/x-python",
   "name": "python",
   "nbconvert_exporter": "python",
   "pygments_lexer": "ipython3",
   "version": "3.10.12"
  }
 },
 "nbformat": 4,
 "nbformat_minor": 5
}
