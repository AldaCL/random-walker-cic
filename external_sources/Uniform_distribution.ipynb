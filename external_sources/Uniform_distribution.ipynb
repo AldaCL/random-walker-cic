{
 "cells": [
  {
   "cell_type": "code",
   "execution_count": 24,
   "id": "2e534b04-13df-4a6f-960b-b39bf30643c2",
   "metadata": {},
   "outputs": [],
   "source": [
    "import numpy as np\n",
    "import matplotlib.pyplot as plt"
   ]
  },
  {
   "cell_type": "markdown",
   "id": "ce4fc379-ea6c-41ff-ac30-f6141f16de4f",
   "metadata": {},
   "source": [
    "## Método congruencial para generar números aleatorios"
   ]
  },
  {
   "cell_type": "code",
   "execution_count": 25,
   "id": "9577de95-c65a-40f6-ae12-df440798672f",
   "metadata": {},
   "outputs": [
    {
     "name": "stdout",
     "output_type": "stream",
     "text": [
      "x_1 104 0.10420841683366733\n",
      "x_2 941 0.9428857715430862\n",
      "x_3 482 0.48296593186372744\n",
      "x_4 347 0.34769539078156314\n",
      "x_5 131 0.1312625250501002\n",
      "x_6 185 0.18537074148296592\n",
      "x_7 671 0.6723446893787575\n",
      "x_8 50 0.050100200400801605\n",
      "x_9 455 0.4559118236472946\n",
      "x_10 104 0.10420841683366733\n"
     ]
    }
   ],
   "source": [
    "m = 999\n",
    "a = 9\n",
    "c = 5\n",
    "x_i = 0\n",
    "x_0 = 11\n",
    "for i in range(10):\n",
    "    if i == 0:\n",
    "        x_i = x_0\n",
    "    x_i = (a * x_i + c) % m\n",
    "    R = x_i / (m - 1)\n",
    "    print(f'x_{i + 1}', x_i, R)"
   ]
  },
  {
   "cell_type": "markdown",
   "id": "2e6ddd42-8693-4c14-8764-2822d9bf99c9",
   "metadata": {},
   "source": [
    "### MersenneTwister"
   ]
  },
  {
   "cell_type": "code",
   "execution_count": 26,
   "id": "efb0f36a-05b9-4fe5-a6b7-d01dbb9a2c79",
   "metadata": {},
   "outputs": [
    {
     "data": {
      "image/png": "[encoded data removed]",
      "text/plain": [
       "<Figure size 640x480 with 1 Axes>"
      ]
     },
     "metadata": {},
     "output_type": "display_data"
    }
   ],
   "source": [
    "class MersenneTwister:\n",
    "    def __init__(self, seed=5489):\n",
    "        self.n = 624  # Tamaño del estado\n",
    "        self.state = [0] * self.n\n",
    "        self.index = self.n  # Índice inicial\n",
    "        self.seed(seed)\n",
    "\n",
    "    def seed(self, seed):\n",
    "        \"\"\"Inicializa la matriz de estado\"\"\"\n",
    "        self.state[0] = seed\n",
    "        for i in range(1, self.n):\n",
    "            self.state[i] = (1812433253 * (self.state[i-1] ^ (self.state[i-1] >> 30)) + i) & 0xFFFFFFFF\n",
    "\n",
    "    def twist(self):\n",
    "        \"\"\"Realiza la transformación de mezcla\"\"\"\n",
    "        for i in range(self.n):\n",
    "            y = (self.state[i] & 0x80000000) + (self.state[(i+1) % self.n] & 0x7FFFFFFF)\n",
    "            self.state[i] = self.state[(i + 397) % self.n] ^ (y >> 1)\n",
    "            if y % 2 != 0:  # Aplicar la máscara si el bit menos significativo es 1\n",
    "                self.state[i] ^= 0x9908B0DF\n",
    "        self.index = 0\n",
    "\n",
    "    def extract_number(self):\n",
    "        \"\"\"Extrae un número aleatorio\"\"\"\n",
    "        if self.index >= self.n:\n",
    "            self.twist()\n",
    "\n",
    "        y = self.state[self.index]\n",
    "        self.index += 1\n",
    "\n",
    "        # Aplicar las transformaciones no lineales\n",
    "        y ^= (y >> 11)\n",
    "        y ^= (y << 7) & 0x9D2C5680\n",
    "        y ^= (y << 15) & 0xEFC60000\n",
    "        y ^= (y >> 18)\n",
    "\n",
    "        return y & 0xFFFFFFFF  # Retornar solo 32 bits\n",
    "\n",
    "# Uso del generador\n",
    "mt = MersenneTwister(seed=42)\n",
    "\n",
    "nums = []\n",
    "# Generar 5 números aleatorios\n",
    "for _ in range(100000):\n",
    "    x = mt.extract_number() / 0xFFFFFFFF\n",
    "    nums.append(int(x * 1000))\n",
    "\n",
    "textfile = open('Uniform_distribution.txt','w')\n",
    "for x_i in nums: \n",
    "    textfile.write(\"%s\\n\" % x_i)\n",
    "\n",
    "nums.sort()\n",
    "nums = np.array(nums)\n",
    "\n",
    "plt.hist(nums)\n",
    "plt.show()"
   ]
  },
  {
   "cell_type": "code",
   "execution_count": 27,
   "id": "296f159c-11e3-4c6d-844b-72c9323d5259",
   "metadata": {},
   "outputs": [],
   "source": [
    "a = 0 #limite inferior\n",
    "b = 999 #límite superior"
   ]
  },
  {
   "cell_type": "markdown",
   "id": "37d36867-d6f2-4a3e-abdf-a5043e3f9841",
   "metadata": {},
   "source": [
    "### Media"
   ]
  },
  {
   "cell_type": "markdown",
   "id": "6163a701-5b4f-42ab-9733-5e7caf0ce1b2",
   "metadata": {},
   "source": [
    "$$\\mu = \\frac{a + b}{2}$$"
   ]
  },
  {
   "cell_type": "code",
   "execution_count": 28,
   "id": "bbe19e61-0005-41a9-97d0-655c810780e8",
   "metadata": {},
   "outputs": [],
   "source": [
    "def mean(list_nums):\n",
    "    n = len(list_nums)\n",
    "    return round(sum(list_nums) / n, 3)"
   ]
  },
  {
   "cell_type": "code",
   "execution_count": 29,
   "id": "14d9da13-8995-4307-adf8-6a5f86a4f0c4",
   "metadata": {},
   "outputs": [
    {
     "name": "stdout",
     "output_type": "stream",
     "text": [
      "Media: 499.193\n"
     ]
    }
   ],
   "source": [
    "print(f'Media: {mean(nums)}')"
   ]
  },
  {
   "cell_type": "code",
   "execution_count": 30,
   "id": "6ef3df6e-d6d0-4ad9-86f4-dc5749782769",
   "metadata": {},
   "outputs": [
    {
     "name": "stdout",
     "output_type": "stream",
     "text": [
      "Media: 499.5\n"
     ]
    }
   ],
   "source": [
    "print(f'Media: {(0 + 999) / 2}')"
   ]
  },
  {
   "cell_type": "markdown",
   "id": "f8a498f4-2efe-47b5-b6d8-173659ab731b",
   "metadata": {},
   "source": [
    "### Varianza"
   ]
  },
  {
   "cell_type": "markdown",
   "id": "621f1d3c-6379-41cf-bfb4-95a9ba387cf5",
   "metadata": {},
   "source": [
    "$$\\sigma ^ 2 = \\frac{(b - a) ^ 2}{12}$$"
   ]
  },
  {
   "cell_type": "code",
   "execution_count": 31,
   "id": "bc95e1ca-02da-4852-899f-c9abd8f0fc99",
   "metadata": {},
   "outputs": [],
   "source": [
    "def k_central_moment(list_nums, k):\n",
    "    n = len(list_nums)\n",
    "    mean_ = mean(list_nums)\n",
    "    return round(sum((list_nums - mean_) ** k) / n, 3)"
   ]
  },
  {
   "cell_type": "code",
   "execution_count": 32,
   "id": "10373748-3c84-4913-85e0-421813cb9220",
   "metadata": {},
   "outputs": [
    {
     "name": "stdout",
     "output_type": "stream",
     "text": [
      "Varianza: 83086.103\n"
     ]
    }
   ],
   "source": [
    "print(f'Varianza: {k_central_moment(nums, 2)}')"
   ]
  },
  {
   "cell_type": "code",
   "execution_count": 33,
   "id": "7a3429a8-f0ec-4d8b-8f15-09bdc20f9f80",
   "metadata": {},
   "outputs": [
    {
     "name": "stdout",
     "output_type": "stream",
     "text": [
      "Varianza: 83166.75\n"
     ]
    }
   ],
   "source": [
    "print(f'Varianza: {(b - a) ** 2 / 12}')"
   ]
  },
  {
   "cell_type": "markdown",
   "id": "ff334ba1-a41f-4470-8c6b-90da98ed8a0b",
   "metadata": {},
   "source": [
    "### Curstosis"
   ]
  },
  {
   "cell_type": "markdown",
   "id": "3d0c835e-e8b5-432d-bcad-ddff937c3af1",
   "metadata": {},
   "source": [
    "$$ \\beta _{2} = \\frac{\\mu _{4}}{\\sigma ^4} $$\n",
    "\n",
    "*  leptocúrtica: $\\beta _{2} > 3$; distribución con colar más largas que la normal.\n",
    "*  platicúrtica: $\\beta _{2} < 3$; distribución con colas menos largas que la normal.\n",
    "*  mesocúrtica: $\\beta _{2} = 3$; cuando tiene una distribución normal (o su misma curtosis)."
   ]
  },
  {
   "cell_type": "code",
   "execution_count": 34,
   "id": "4372f513-7423-402d-adb9-0587dacffabb",
   "metadata": {},
   "outputs": [],
   "source": [
    "def curtosis(list_nums):\n",
    "    return k_central_moment(list_nums, 4) / (k_central_moment(list_nums, 2) ** 2)"
   ]
  },
  {
   "cell_type": "code",
   "execution_count": 35,
   "id": "ad8d88d8-9150-464b-898e-4dbc0774c685",
   "metadata": {},
   "outputs": [
    {
     "name": "stdout",
     "output_type": "stream",
     "text": [
      "Curtosis: 1.8036490417313158\n"
     ]
    }
   ],
   "source": [
    "print(f'Curtosis: {curtosis(nums)}')"
   ]
  },
  {
   "cell_type": "markdown",
   "id": "de31156a-d5de-4e16-904a-b2645f09577a",
   "metadata": {},
   "source": [
    "https://www.academia.utp.ac.pa/sites/default/files/docente/541/l3_generacion_de_numeros_aleatorios_.pdf"
   ]
  }
 ],
 "metadata": {
  "kernelspec": {
   "display_name": "Python 3 (ipykernel)",
   "language": "python",
   "name": "python3"
  },
  "language_info": {
   "codemirror_mode": {
    "name": "ipython",
    "version": 3
   },
   "file_extension": ".py",
   "mimetype": "text/x-python",
   "name": "python",
   "nbconvert_exporter": "python",
   "pygments_lexer": "ipython3",
   "version": "3.10.12"
  }
 },
 "nbformat": 4,
 "nbformat_minor": 5
}
